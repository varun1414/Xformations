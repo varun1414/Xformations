{
 "cells": [
  {
   "cell_type": "code",
   "execution_count": 1,
   "metadata": {},
   "outputs": [
    {
     "name": "stderr",
     "output_type": "stream",
     "text": [
      "C:\\Users\\HP\\Anaconda3\\envs\\Rssi\\lib\\site-packages\\statsmodels\\tools\\_testing.py:19: FutureWarning: pandas.util.testing is deprecated. Use the functions in the public API at pandas.testing instead.\n",
      "  import pandas.util.testing as tm\n"
     ]
    }
   ],
   "source": [
    "import pandas as pd\n",
    "import seaborn as sns"
   ]
  },
  {
   "cell_type": "code",
   "execution_count": 2,
   "metadata": {},
   "outputs": [],
   "source": [
    "formations=['433','4231','3142','442','4141','3412','352','3421','41212','41221','4321','4411','31213','4312']\n",
    "\n",
    "pl2021={}\n",
    "pl1920={}\n",
    "pl1819={}\n",
    "pl1718={}\n",
    "pl1617={}\n",
    "pl1516={}\n",
    "def import_datasets(name):\n",
    "        temp={}\n",
    "        print(\"name\",name)\n",
    "        for i in formations:\n",
    "                path='./Scrappers/players/'+name+'.xlsx'\n",
    "                try:\n",
    "                    temp[i]=pd.read_excel(path,sheet_name=i)\n",
    "\n",
    "\n",
    "                except:\n",
    "                    print(i,\" not in year\")\n",
    "        return temp\n"
   ]
  },
  {
   "cell_type": "code",
   "execution_count": 3,
   "metadata": {},
   "outputs": [
    {
     "name": "stdout",
     "output_type": "stream",
     "text": [
      "here 2021\n",
      "name 2021\n",
      "41212  not in year\n",
      "41221  not in year\n",
      "4321  not in year\n",
      "4411  not in year\n",
      "31213  not in year\n",
      "4312  not in year\n",
      "here 1920\n",
      "name 1920\n",
      "3142  not in year\n",
      "4141  not in year\n",
      "3412  not in year\n",
      "352  not in year\n",
      "3421  not in year\n",
      "41221  not in year\n",
      "4321  not in year\n",
      "4411  not in year\n",
      "31213  not in year\n",
      "here 1819\n",
      "name 1819\n",
      "4231  not in year\n",
      "3412  not in year\n",
      "41212  not in year\n",
      "41221  not in year\n",
      "4321  not in year\n",
      "4411  not in year\n",
      "31213  not in year\n",
      "4312  not in year\n",
      "here 1718\n",
      "name 1718\n",
      "3142  not in year\n",
      "4141  not in year\n",
      "3412  not in year\n",
      "3421  not in year\n",
      "41221  not in year\n",
      "4321  not in year\n",
      "31213  not in year\n",
      "4312  not in year\n",
      "here 1617\n",
      "name 1617\n",
      "4231  not in year\n",
      "442  not in year\n",
      "3412  not in year\n",
      "352  not in year\n",
      "4321  not in year\n",
      "4411  not in year\n",
      "here 1516\n",
      "name 1516\n",
      "4231  not in year\n",
      "3142  not in year\n",
      "442  not in year\n",
      "4141  not in year\n",
      "3412  not in year\n",
      "352  not in year\n",
      "3421  not in year\n",
      "41212  not in year\n",
      "4321  not in year\n",
      "4411  not in year\n",
      "31213  not in year\n",
      "4312  not in year\n"
     ]
    }
   ],
   "source": [
    "temp=[\n",
    "pl2021,\n",
    "pl1920,\n",
    "pl1819,\n",
    "pl1718,\n",
    "pl1617,\n",
    "pl1516]\n",
    "j=0\n",
    "for i in ['2021','1920','1819','1718','1617','1516']:\n",
    "     \n",
    "    print(\"here\",i)\n",
    "    i=import_datasets(str(i))\n",
    "    temp[j]=i\n",
    "    j=j+1\n",
    "    \n",
    "            "
   ]
  },
  {
   "cell_type": "code",
   "execution_count": 4,
   "metadata": {},
   "outputs": [
    {
     "data": {
      "text/plain": [
       "{'433':               NAME POSITION Unnamed: 2\n",
       " 0   M. ter Stegen        GK         79\n",
       " 1       N. Semedo        DR         79\n",
       " 2        G. Pique       DCR         86\n",
       " 3      C. Lenglet       DCL         84\n",
       " 4         J. Alba        DL         91\n",
       " 5      S. Roberto       MCR         82\n",
       " 6      I. Rakitić        MC         78\n",
       " 7      F. de Jong       MCL         86\n",
       " 8        L. Messi        WR         99\n",
       " 9       L. Suárez         S       82  \n",
       " 10   A. Griezmann        WL         92,\n",
       " '4231':               NAME POSITION  Unnamed: 2\n",
       " 0   M. ter Stegen        GK        79.0\n",
       " 1        M. Wagué        DR         NaN\n",
       " 2        G. Pique       DCR        86.0\n",
       " 3       S. Umtiti       DCL        74.0\n",
       " 4           Firpo        DL        75.0\n",
       " 5      F. de Jong      DMCR        86.0\n",
       " 6     S. Busquets      DMCL        90.0\n",
       " 7      O. Dembélé       AMR        84.0\n",
       " 8        L. Messi       AMC        99.0\n",
       " 9    A. Griezmann       AML        92.0\n",
       " 10      L. Suárez         S        82.0,\n",
       " '442':               NAME POSITION  Unnamed: 2\n",
       " 0   M. ter Stegen        GK          79\n",
       " 1       N. Semedo        DR          79\n",
       " 2        G. Pique       DCR          86\n",
       " 3      C. Lenglet       DCL          84\n",
       " 4         J. Alba        DL          91\n",
       " 5        A. Vidal        MR          78\n",
       " 6     S. Busquets       MCR          90\n",
       " 7      I. Rakitić       MCL          78\n",
       " 8         B'waite        ML          74\n",
       " 9        L. Messi       FCR          99\n",
       " 10      L. Suárez       FCL          82,\n",
       " '41212':               NAME POSITION  Unnamed: 2\n",
       " 0   M. ter Stegen        GK          79\n",
       " 1       N. Semedo        DR          79\n",
       " 2        G. Pique       DCR          86\n",
       " 3      C. Lenglet       DCL          84\n",
       " 4         J. Alba        DL          91\n",
       " 5     S. Busquets       DMC          90\n",
       " 6      S. Roberto       MCR          82\n",
       " 7      Riqui Puig       MCL          77\n",
       " 8        A. Vidal       AMC          78\n",
       " 9        L. Messi       FCR          99\n",
       " 10   A. Griezmann       FCL          92,\n",
       " '4312':               NAME POSITION  Unnamed: 2\n",
       " 0   M. ter Stegen        GK          79\n",
       " 1       N. Semedo        DR          79\n",
       " 2        G. Pique       DCR          86\n",
       " 3      C. Lenglet       DCL          84\n",
       " 4         J. Alba        DL          91\n",
       " 5      I. Rakitić       DMR          78\n",
       " 6     S. Busquets       DMC          90\n",
       " 7      S. Roberto       DML          82\n",
       " 8        L. Messi       AMC          99\n",
       " 9    A. Griezmann       FCR          92\n",
       " 10      L. Suárez       FCL          82}"
      ]
     },
     "execution_count": 4,
     "metadata": {},
     "output_type": "execute_result"
    }
   ],
   "source": [
    "temp[1]"
   ]
  },
  {
   "cell_type": "code",
   "execution_count": 5,
   "metadata": {},
   "outputs": [],
   "source": [
    "pl2021=temp[0]\n",
    "pl1920=temp[1]\n",
    "pl1819=temp[2]\n",
    "pl1718=temp[3]\n",
    "pl1617=temp[4]\n",
    "pl1516=temp[5]"
   ]
  },
  {
   "cell_type": "code",
   "execution_count": 6,
   "metadata": {},
   "outputs": [
    {
     "data": {
      "text/plain": [
       "{'433':               NAME POSITION Unnamed: 2\n",
       " 0   M. ter Stegen        GK         79\n",
       " 1      Dani Alves        DR         79\n",
       " 2        G. Pique       DCR         86\n",
       " 3   J. Mascherano       DCL         50\n",
       " 4         J. Alba        DL         91\n",
       " 5      I. Rakitić       MCR         78\n",
       " 6     S. Busquets        MC         90\n",
       " 7         Iniesta       MCL         63\n",
       " 8        L. Messi        WR         99\n",
       " 9       L. Suárez         S       82  \n",
       " 10     Neymar Jr.        WL         90,\n",
       " '41221':                 NAME POSITION Unnamed: 2\n",
       " 0     M. ter Stegen        GK         79\n",
       " 1        Dani Alves        DR         79\n",
       " 2     J. Mascherano       DCR         50\n",
       " 3      T. Vermaelen       DCL         64\n",
       " 4   Adriano Correia        DL         54\n",
       " 5       S. Busquets       DMC         90\n",
       " 6        I. Rakitić       MCR         78\n",
       " 7        S. Roberto       MCL         82\n",
       " 8         L. Suárez       AMR       82  \n",
       " 9        Neymar Jr.       AML         90\n",
       " 10          Iniesta         S         63}"
      ]
     },
     "execution_count": 6,
     "metadata": {},
     "output_type": "execute_result"
    }
   ],
   "source": [
    "pl1516"
   ]
  },
  {
   "cell_type": "code",
   "execution_count": 11,
   "metadata": {},
   "outputs": [],
   "source": [
    "import ipynb\n",
    "from ipynb.fs.full.formation_trends import deets"
   ]
  },
  {
   "cell_type": "markdown",
   "metadata": {},
   "source": [
    "# Player positioning analysis"
   ]
  },
  {
   "cell_type": "raw",
   "metadata": {},
   "source": [
    "1"
   ]
  }
 ],
 "metadata": {
  "kernelspec": {
   "display_name": "Python [conda env:Rssi] *",
   "language": "python",
   "name": "conda-env-Rssi-py"
  },
  "language_info": {
   "codemirror_mode": {
    "name": "ipython",
    "version": 3
   },
   "file_extension": ".py",
   "mimetype": "text/x-python",
   "name": "python",
   "nbconvert_exporter": "python",
   "pygments_lexer": "ipython3",
   "version": "3.7.5"
  }
 },
 "nbformat": 4,
 "nbformat_minor": 2
}
