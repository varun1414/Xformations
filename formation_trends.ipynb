{
 "cells": [
  {
   "cell_type": "code",
   "execution_count": 1,
   "metadata": {},
   "outputs": [
    {
     "name": "stderr",
     "output_type": "stream",
     "text": [
      "C:\\Users\\HP\\Anaconda3\\envs\\Rssi\\lib\\site-packages\\statsmodels\\tools\\_testing.py:19: FutureWarning: pandas.util.testing is deprecated. Use the functions in the public API at pandas.testing instead.\n",
      "  import pandas.util.testing as tm\n"
     ]
    }
   ],
   "source": [
    "import pandas as pd\n",
    "import seaborn as sns"
   ]
  },
  {
   "cell_type": "code",
   "execution_count": 2,
   "metadata": {},
   "outputs": [],
   "source": [
    "df2021=pd.read_csv('20_21',encoding=\"latin\")\n",
    "df1920=pd.read_csv('19_20',encoding=\"latin\")\n",
    "df1819=pd.read_csv('18_19',encoding=\"latin\")\n",
    "df1718=pd.read_csv('17_18',encoding=\"latin\")\n",
    "df1617=pd.read_csv('16_17',encoding=\"latin\")\n",
    "df1516=pd.read_csv('15_16',encoding=\"latin\")\n",
    "df=pd.read_csv('complete',encoding=\"latin\")"
   ]
  },
  {
   "cell_type": "code",
   "execution_count": 3,
   "metadata": {},
   "outputs": [],
   "source": [
    "df=df[df.columns[1:]]\n"
   ]
  },
  {
   "cell_type": "code",
   "execution_count": 4,
   "metadata": {},
   "outputs": [],
   "source": [
    "df=df[df[\"formation\"]!= \"None\"]"
   ]
  },
  {
   "cell_type": "code",
   "execution_count": 5,
   "metadata": {},
   "outputs": [
    {
     "data": {
      "text/html": [
       "<div>\n",
       "<style scoped>\n",
       "    .dataframe tbody tr th:only-of-type {\n",
       "        vertical-align: middle;\n",
       "    }\n",
       "\n",
       "    .dataframe tbody tr th {\n",
       "        vertical-align: top;\n",
       "    }\n",
       "\n",
       "    .dataframe thead th {\n",
       "        text-align: right;\n",
       "    }\n",
       "</style>\n",
       "<table border=\"1\" class=\"dataframe\">\n",
       "  <thead>\n",
       "    <tr style=\"text-align: right;\">\n",
       "      <th></th>\n",
       "      <th>comp</th>\n",
       "      <th>date</th>\n",
       "      <th>result</th>\n",
       "      <th>teams</th>\n",
       "      <th>score</th>\n",
       "      <th>formation</th>\n",
       "    </tr>\n",
       "  </thead>\n",
       "  <tbody>\n",
       "    <tr>\n",
       "      <th>0</th>\n",
       "      <td>LAL</td>\n",
       "      <td>Oct 1, 2020</td>\n",
       "      <td>W</td>\n",
       "      <td>[Celta , Barcelona]</td>\n",
       "      <td>0 - 3</td>\n",
       "      <td>4231</td>\n",
       "    </tr>\n",
       "    <tr>\n",
       "      <th>1</th>\n",
       "      <td>LAL</td>\n",
       "      <td>Oct 4, 2020</td>\n",
       "      <td>D</td>\n",
       "      <td>[Barcelona , Sevilla FC ]</td>\n",
       "      <td>1 - 1</td>\n",
       "      <td>4231</td>\n",
       "    </tr>\n",
       "    <tr>\n",
       "      <th>2</th>\n",
       "      <td>LAL</td>\n",
       "      <td>Oct 17, 2020</td>\n",
       "      <td>L</td>\n",
       "      <td>[Getafe, Barcelona ]</td>\n",
       "      <td>1 - 0</td>\n",
       "      <td>4231</td>\n",
       "    </tr>\n",
       "    <tr>\n",
       "      <th>3</th>\n",
       "      <td>UCL</td>\n",
       "      <td>Oct 20, 2020</td>\n",
       "      <td>W</td>\n",
       "      <td>[Barcelona, FerencvÃ¡ros ]</td>\n",
       "      <td>5 - 1</td>\n",
       "      <td>4231</td>\n",
       "    </tr>\n",
       "    <tr>\n",
       "      <th>4</th>\n",
       "      <td>LAL</td>\n",
       "      <td>Oct 24, 2020</td>\n",
       "      <td>L</td>\n",
       "      <td>[Barcelona , Real Madrid]</td>\n",
       "      <td>1 - 3</td>\n",
       "      <td>442</td>\n",
       "    </tr>\n",
       "    <tr>\n",
       "      <th>...</th>\n",
       "      <td>...</td>\n",
       "      <td>...</td>\n",
       "      <td>...</td>\n",
       "      <td>...</td>\n",
       "      <td>...</td>\n",
       "      <td>...</td>\n",
       "    </tr>\n",
       "    <tr>\n",
       "      <th>332</th>\n",
       "      <td>LAL</td>\n",
       "      <td>Apr 20, 2016</td>\n",
       "      <td>W</td>\n",
       "      <td>[Deportivo , Barcelona]</td>\n",
       "      <td>0 - 8</td>\n",
       "      <td>433</td>\n",
       "    </tr>\n",
       "    <tr>\n",
       "      <th>333</th>\n",
       "      <td>LAL</td>\n",
       "      <td>Apr 23, 2016</td>\n",
       "      <td>W</td>\n",
       "      <td>[Barcelona, GijÃ³n ]</td>\n",
       "      <td>6 - 0</td>\n",
       "      <td>433</td>\n",
       "    </tr>\n",
       "    <tr>\n",
       "      <th>334</th>\n",
       "      <td>LAL</td>\n",
       "      <td>Apr 30, 2016</td>\n",
       "      <td>W</td>\n",
       "      <td>[Real Betis , Barcelona]</td>\n",
       "      <td>0 - 2</td>\n",
       "      <td>433</td>\n",
       "    </tr>\n",
       "    <tr>\n",
       "      <th>335</th>\n",
       "      <td>LAL</td>\n",
       "      <td>May 8, 2016</td>\n",
       "      <td>W</td>\n",
       "      <td>[Barcelona, Espanyol ]</td>\n",
       "      <td>5 - 0</td>\n",
       "      <td>433</td>\n",
       "    </tr>\n",
       "    <tr>\n",
       "      <th>336</th>\n",
       "      <td>LAL</td>\n",
       "      <td>May 14, 2016</td>\n",
       "      <td>W</td>\n",
       "      <td>[Granada , Barcelona]</td>\n",
       "      <td>0 - 3</td>\n",
       "      <td>433</td>\n",
       "    </tr>\n",
       "  </tbody>\n",
       "</table>\n",
       "<p>307 rows × 6 columns</p>\n",
       "</div>"
      ],
      "text/plain": [
       "     comp           date result                       teams  score formation\n",
       "0    LAL    Oct 1, 2020       W         [Celta , Barcelona]  0 - 3      4231\n",
       "1    LAL    Oct 4, 2020       D   [Barcelona , Sevilla FC ]  1 - 1      4231\n",
       "2    LAL   Oct 17, 2020       L        [Getafe, Barcelona ]  1 - 0      4231\n",
       "3    UCL   Oct 20, 2020       W  [Barcelona, FerencvÃ¡ros ]  5 - 1      4231\n",
       "4    LAL   Oct 24, 2020       L   [Barcelona , Real Madrid]  1 - 3       442\n",
       "..    ...            ...    ...                         ...    ...       ...\n",
       "332  LAL   Apr 20, 2016       W     [Deportivo , Barcelona]  0 - 8       433\n",
       "333  LAL   Apr 23, 2016       W        [Barcelona, GijÃ³n ]  6 - 0       433\n",
       "334  LAL   Apr 30, 2016       W    [Real Betis , Barcelona]  0 - 2       433\n",
       "335  LAL    May 8, 2016       W      [Barcelona, Espanyol ]  5 - 0       433\n",
       "336  LAL   May 14, 2016       W       [Granada , Barcelona]  0 - 3       433\n",
       "\n",
       "[307 rows x 6 columns]"
      ]
     },
     "execution_count": 5,
     "metadata": {},
     "output_type": "execute_result"
    }
   ],
   "source": [
    "df"
   ]
  },
  {
   "cell_type": "code",
   "execution_count": 6,
   "metadata": {},
   "outputs": [],
   "source": [
    "import matplotlib.pyplot as plt\n"
   ]
  },
  {
   "cell_type": "code",
   "execution_count": 7,
   "metadata": {},
   "outputs": [
    {
     "data": {
      "image/png": "[encoded data removed]",
      "text/plain": [
       "<Figure size 1080x576 with 1 Axes>"
      ]
     },
     "metadata": {
      "needs_background": "light"
     },
     "output_type": "display_data"
    }
   ],
   "source": [
    "plt.figure(figsize = (15, 8))\n",
    "ax = sns.countplot(data=df,x=\"formation\",hue=\"result\")\n"
   ]
  },
  {
   "cell_type": "code",
   "execution_count": 8,
   "metadata": {},
   "outputs": [],
   "source": [
    "year=[s[-5:-1] for s in df['date']]"
   ]
  },
  {
   "cell_type": "code",
   "execution_count": 9,
   "metadata": {},
   "outputs": [
    {
     "data": {
      "text/plain": [
       "307"
      ]
     },
     "execution_count": 9,
     "metadata": {},
     "output_type": "execute_result"
    }
   ],
   "source": [
    "len(year)"
   ]
  },
  {
   "cell_type": "code",
   "execution_count": 10,
   "metadata": {},
   "outputs": [],
   "source": [
    "month=[s[0:6].replace(',','') for s in df['date']]"
   ]
  },
  {
   "cell_type": "code",
   "execution_count": 11,
   "metadata": {},
   "outputs": [
    {
     "data": {
      "text/plain": [
       "307"
      ]
     },
     "execution_count": 11,
     "metadata": {},
     "output_type": "execute_result"
    }
   ],
   "source": [
    "len(month)"
   ]
  },
  {
   "cell_type": "code",
   "execution_count": 12,
   "metadata": {},
   "outputs": [],
   "source": [
    "df['year']=year\n",
    "df['month']=month"
   ]
  },
  {
   "cell_type": "code",
   "execution_count": 13,
   "metadata": {},
   "outputs": [
    {
     "data": {
      "text/html": [
       "<div>\n",
       "<style scoped>\n",
       "    .dataframe tbody tr th:only-of-type {\n",
       "        vertical-align: middle;\n",
       "    }\n",
       "\n",
       "    .dataframe tbody tr th {\n",
       "        vertical-align: top;\n",
       "    }\n",
       "\n",
       "    .dataframe thead th {\n",
       "        text-align: right;\n",
       "    }\n",
       "</style>\n",
       "<table border=\"1\" class=\"dataframe\">\n",
       "  <thead>\n",
       "    <tr style=\"text-align: right;\">\n",
       "      <th></th>\n",
       "      <th>comp</th>\n",
       "      <th>date</th>\n",
       "      <th>result</th>\n",
       "      <th>teams</th>\n",
       "      <th>score</th>\n",
       "      <th>formation</th>\n",
       "      <th>year</th>\n",
       "      <th>month</th>\n",
       "    </tr>\n",
       "  </thead>\n",
       "  <tbody>\n",
       "    <tr>\n",
       "      <th>0</th>\n",
       "      <td>LAL</td>\n",
       "      <td>Oct 1, 2020</td>\n",
       "      <td>W</td>\n",
       "      <td>[Celta , Barcelona]</td>\n",
       "      <td>0 - 3</td>\n",
       "      <td>4231</td>\n",
       "      <td>2020</td>\n",
       "      <td>Oct 1</td>\n",
       "    </tr>\n",
       "    <tr>\n",
       "      <th>1</th>\n",
       "      <td>LAL</td>\n",
       "      <td>Oct 4, 2020</td>\n",
       "      <td>D</td>\n",
       "      <td>[Barcelona , Sevilla FC ]</td>\n",
       "      <td>1 - 1</td>\n",
       "      <td>4231</td>\n",
       "      <td>2020</td>\n",
       "      <td>Oct 4</td>\n",
       "    </tr>\n",
       "    <tr>\n",
       "      <th>2</th>\n",
       "      <td>LAL</td>\n",
       "      <td>Oct 17, 2020</td>\n",
       "      <td>L</td>\n",
       "      <td>[Getafe, Barcelona ]</td>\n",
       "      <td>1 - 0</td>\n",
       "      <td>4231</td>\n",
       "      <td>2020</td>\n",
       "      <td>Oct 17</td>\n",
       "    </tr>\n",
       "    <tr>\n",
       "      <th>3</th>\n",
       "      <td>UCL</td>\n",
       "      <td>Oct 20, 2020</td>\n",
       "      <td>W</td>\n",
       "      <td>[Barcelona, FerencvÃ¡ros ]</td>\n",
       "      <td>5 - 1</td>\n",
       "      <td>4231</td>\n",
       "      <td>2020</td>\n",
       "      <td>Oct 20</td>\n",
       "    </tr>\n",
       "    <tr>\n",
       "      <th>4</th>\n",
       "      <td>LAL</td>\n",
       "      <td>Oct 24, 2020</td>\n",
       "      <td>L</td>\n",
       "      <td>[Barcelona , Real Madrid]</td>\n",
       "      <td>1 - 3</td>\n",
       "      <td>442</td>\n",
       "      <td>2020</td>\n",
       "      <td>Oct 24</td>\n",
       "    </tr>\n",
       "    <tr>\n",
       "      <th>...</th>\n",
       "      <td>...</td>\n",
       "      <td>...</td>\n",
       "      <td>...</td>\n",
       "      <td>...</td>\n",
       "      <td>...</td>\n",
       "      <td>...</td>\n",
       "      <td>...</td>\n",
       "      <td>...</td>\n",
       "    </tr>\n",
       "    <tr>\n",
       "      <th>332</th>\n",
       "      <td>LAL</td>\n",
       "      <td>Apr 20, 2016</td>\n",
       "      <td>W</td>\n",
       "      <td>[Deportivo , Barcelona]</td>\n",
       "      <td>0 - 8</td>\n",
       "      <td>433</td>\n",
       "      <td>2016</td>\n",
       "      <td>Apr 20</td>\n",
       "    </tr>\n",
       "    <tr>\n",
       "      <th>333</th>\n",
       "      <td>LAL</td>\n",
       "      <td>Apr 23, 2016</td>\n",
       "      <td>W</td>\n",
       "      <td>[Barcelona, GijÃ³n ]</td>\n",
       "      <td>6 - 0</td>\n",
       "      <td>433</td>\n",
       "      <td>2016</td>\n",
       "      <td>Apr 23</td>\n",
       "    </tr>\n",
       "    <tr>\n",
       "      <th>334</th>\n",
       "      <td>LAL</td>\n",
       "      <td>Apr 30, 2016</td>\n",
       "      <td>W</td>\n",
       "      <td>[Real Betis , Barcelona]</td>\n",
       "      <td>0 - 2</td>\n",
       "      <td>433</td>\n",
       "      <td>2016</td>\n",
       "      <td>Apr 30</td>\n",
       "    </tr>\n",
       "    <tr>\n",
       "      <th>335</th>\n",
       "      <td>LAL</td>\n",
       "      <td>May 8, 2016</td>\n",
       "      <td>W</td>\n",
       "      <td>[Barcelona, Espanyol ]</td>\n",
       "      <td>5 - 0</td>\n",
       "      <td>433</td>\n",
       "      <td>2016</td>\n",
       "      <td>May 8</td>\n",
       "    </tr>\n",
       "    <tr>\n",
       "      <th>336</th>\n",
       "      <td>LAL</td>\n",
       "      <td>May 14, 2016</td>\n",
       "      <td>W</td>\n",
       "      <td>[Granada , Barcelona]</td>\n",
       "      <td>0 - 3</td>\n",
       "      <td>433</td>\n",
       "      <td>2016</td>\n",
       "      <td>May 14</td>\n",
       "    </tr>\n",
       "  </tbody>\n",
       "</table>\n",
       "<p>307 rows × 8 columns</p>\n",
       "</div>"
      ],
      "text/plain": [
       "     comp           date result                       teams  score formation  \\\n",
       "0    LAL    Oct 1, 2020       W         [Celta , Barcelona]  0 - 3      4231   \n",
       "1    LAL    Oct 4, 2020       D   [Barcelona , Sevilla FC ]  1 - 1      4231   \n",
       "2    LAL   Oct 17, 2020       L        [Getafe, Barcelona ]  1 - 0      4231   \n",
       "3    UCL   Oct 20, 2020       W  [Barcelona, FerencvÃ¡ros ]  5 - 1      4231   \n",
       "4    LAL   Oct 24, 2020       L   [Barcelona , Real Madrid]  1 - 3       442   \n",
       "..    ...            ...    ...                         ...    ...       ...   \n",
       "332  LAL   Apr 20, 2016       W     [Deportivo , Barcelona]  0 - 8       433   \n",
       "333  LAL   Apr 23, 2016       W        [Barcelona, GijÃ³n ]  6 - 0       433   \n",
       "334  LAL   Apr 30, 2016       W    [Real Betis , Barcelona]  0 - 2       433   \n",
       "335  LAL    May 8, 2016       W      [Barcelona, Espanyol ]  5 - 0       433   \n",
       "336  LAL   May 14, 2016       W       [Granada , Barcelona]  0 - 3       433   \n",
       "\n",
       "     year   month  \n",
       "0    2020   Oct 1  \n",
       "1    2020   Oct 4  \n",
       "2    2020  Oct 17  \n",
       "3    2020  Oct 20  \n",
       "4    2020  Oct 24  \n",
       "..    ...     ...  \n",
       "332  2016  Apr 20  \n",
       "333  2016  Apr 23  \n",
       "334  2016  Apr 30  \n",
       "335  2016   May 8  \n",
       "336  2016  May 14  \n",
       "\n",
       "[307 rows x 8 columns]"
      ]
     },
     "execution_count": 13,
     "metadata": {},
     "output_type": "execute_result"
    }
   ],
   "source": [
    "df"
   ]
  },
  {
   "cell_type": "markdown",
   "metadata": {},
   "source": [
    "# Three at the back formation"
   ]
  },
  {
   "cell_type": "code",
   "execution_count": 169,
   "metadata": {},
   "outputs": [],
   "source": [
    "tab=df[(df[\"formation\"]==\"31213\") | (df[\"formation\"]== \"3142\") | (df[\"formation\"]== \"3412\") | (df[\"formation\"]== \"3421\")  | (df[\"formation\"]== \"352\")]"
   ]
  },
  {
   "cell_type": "code",
   "execution_count": 170,
   "metadata": {},
   "outputs": [],
   "source": [
    "tab.reset_index(drop=True,inplace=True)"
   ]
  },
  {
   "cell_type": "code",
   "execution_count": 179,
   "metadata": {},
   "outputs": [
    {
     "data": {
      "image/png": "[encoded data removed]",
      "text/plain": [
       "<Figure size 1080x576 with 1 Axes>"
      ]
     },
     "metadata": {
      "needs_background": "light"
     },
     "output_type": "display_data"
    }
   ],
   "source": [
    "plt.figure(figsize = (15, 8))\n",
    "ax = sns.countplot(data=tab,x=\"formation\",hue=\"result\")\n",
    "for i in ax.patches:\n",
    "    ax.annotate(\"{:.1f} \".format(i.get_height()),(i.get_x(),i.get_height()+0.1))"
   ]
  },
  {
   "cell_type": "markdown",
   "metadata": {},
   "source": [
    "# Looking at years 2020 and 21"
   ]
  },
  {
   "cell_type": "code",
   "execution_count": 180,
   "metadata": {},
   "outputs": [
    {
     "data": {
      "text/html": [
       "<div>\n",
       "<style scoped>\n",
       "    .dataframe tbody tr th:only-of-type {\n",
       "        vertical-align: middle;\n",
       "    }\n",
       "\n",
       "    .dataframe tbody tr th {\n",
       "        vertical-align: top;\n",
       "    }\n",
       "\n",
       "    .dataframe thead th {\n",
       "        text-align: right;\n",
       "    }\n",
       "</style>\n",
       "<table border=\"1\" class=\"dataframe\">\n",
       "  <thead>\n",
       "    <tr style=\"text-align: right;\">\n",
       "      <th></th>\n",
       "      <th>index</th>\n",
       "      <th>comp</th>\n",
       "      <th>date</th>\n",
       "      <th>result</th>\n",
       "      <th>teams</th>\n",
       "      <th>score</th>\n",
       "      <th>formation</th>\n",
       "      <th>year</th>\n",
       "      <th>month</th>\n",
       "    </tr>\n",
       "  </thead>\n",
       "  <tbody>\n",
       "    <tr>\n",
       "      <th>0</th>\n",
       "      <td>0</td>\n",
       "      <td>LAL</td>\n",
       "      <td>Oct 1, 2020</td>\n",
       "      <td>W</td>\n",
       "      <td>[Celta , Barcelona]</td>\n",
       "      <td>0 - 3</td>\n",
       "      <td>4231</td>\n",
       "      <td>2020</td>\n",
       "      <td>Oct 1</td>\n",
       "    </tr>\n",
       "    <tr>\n",
       "      <th>1</th>\n",
       "      <td>1</td>\n",
       "      <td>LAL</td>\n",
       "      <td>Oct 4, 2020</td>\n",
       "      <td>D</td>\n",
       "      <td>[Barcelona , Sevilla FC ]</td>\n",
       "      <td>1 - 1</td>\n",
       "      <td>4231</td>\n",
       "      <td>2020</td>\n",
       "      <td>Oct 4</td>\n",
       "    </tr>\n",
       "    <tr>\n",
       "      <th>2</th>\n",
       "      <td>2</td>\n",
       "      <td>LAL</td>\n",
       "      <td>Oct 17, 2020</td>\n",
       "      <td>L</td>\n",
       "      <td>[Getafe, Barcelona ]</td>\n",
       "      <td>1 - 0</td>\n",
       "      <td>4231</td>\n",
       "      <td>2020</td>\n",
       "      <td>Oct 17</td>\n",
       "    </tr>\n",
       "    <tr>\n",
       "      <th>3</th>\n",
       "      <td>3</td>\n",
       "      <td>UCL</td>\n",
       "      <td>Oct 20, 2020</td>\n",
       "      <td>W</td>\n",
       "      <td>[Barcelona, FerencvÃ¡ros ]</td>\n",
       "      <td>5 - 1</td>\n",
       "      <td>4231</td>\n",
       "      <td>2020</td>\n",
       "      <td>Oct 20</td>\n",
       "    </tr>\n",
       "    <tr>\n",
       "      <th>4</th>\n",
       "      <td>4</td>\n",
       "      <td>LAL</td>\n",
       "      <td>Oct 24, 2020</td>\n",
       "      <td>L</td>\n",
       "      <td>[Barcelona , Real Madrid]</td>\n",
       "      <td>1 - 3</td>\n",
       "      <td>442</td>\n",
       "      <td>2020</td>\n",
       "      <td>Oct 24</td>\n",
       "    </tr>\n",
       "    <tr>\n",
       "      <th>...</th>\n",
       "      <td>...</td>\n",
       "      <td>...</td>\n",
       "      <td>...</td>\n",
       "      <td>...</td>\n",
       "      <td>...</td>\n",
       "      <td>...</td>\n",
       "      <td>...</td>\n",
       "      <td>...</td>\n",
       "      <td>...</td>\n",
       "    </tr>\n",
       "    <tr>\n",
       "      <th>73</th>\n",
       "      <td>97</td>\n",
       "      <td>LAL</td>\n",
       "      <td>Jul 8, 2020</td>\n",
       "      <td>W</td>\n",
       "      <td>[Barcelona, Espanyol ]</td>\n",
       "      <td>1 - 0</td>\n",
       "      <td>4312</td>\n",
       "      <td>2020</td>\n",
       "      <td>Jul 8</td>\n",
       "    </tr>\n",
       "    <tr>\n",
       "      <th>74</th>\n",
       "      <td>98</td>\n",
       "      <td>LAL</td>\n",
       "      <td>Jul 11, 2020</td>\n",
       "      <td>W</td>\n",
       "      <td>[Valladolid , Barcelona]</td>\n",
       "      <td>0 - 1</td>\n",
       "      <td>41212</td>\n",
       "      <td>2020</td>\n",
       "      <td>Jul 11</td>\n",
       "    </tr>\n",
       "    <tr>\n",
       "      <th>75</th>\n",
       "      <td>99</td>\n",
       "      <td>LAL</td>\n",
       "      <td>Jul 16, 2020</td>\n",
       "      <td>L</td>\n",
       "      <td>[Barcelona , Osasuna]</td>\n",
       "      <td>1 - 2</td>\n",
       "      <td>433</td>\n",
       "      <td>2020</td>\n",
       "      <td>Jul 16</td>\n",
       "    </tr>\n",
       "    <tr>\n",
       "      <th>76</th>\n",
       "      <td>100</td>\n",
       "      <td>LAL</td>\n",
       "      <td>Jul 19, 2020</td>\n",
       "      <td>W</td>\n",
       "      <td>[AlavÃ©s , Barcelona]</td>\n",
       "      <td>0 - 5</td>\n",
       "      <td>433</td>\n",
       "      <td>2020</td>\n",
       "      <td>Jul 19</td>\n",
       "    </tr>\n",
       "    <tr>\n",
       "      <th>77</th>\n",
       "      <td>101</td>\n",
       "      <td>UCL</td>\n",
       "      <td>Aug 8, 2020</td>\n",
       "      <td>W</td>\n",
       "      <td>[Barcelona, Napoli ]</td>\n",
       "      <td>3 - 1</td>\n",
       "      <td>433</td>\n",
       "      <td>2020</td>\n",
       "      <td>Aug 8</td>\n",
       "    </tr>\n",
       "  </tbody>\n",
       "</table>\n",
       "<p>78 rows × 9 columns</p>\n",
       "</div>"
      ],
      "text/plain": [
       "    index  comp           date result                       teams  score  \\\n",
       "0       0  LAL    Oct 1, 2020       W         [Celta , Barcelona]  0 - 3   \n",
       "1       1  LAL    Oct 4, 2020       D   [Barcelona , Sevilla FC ]  1 - 1   \n",
       "2       2  LAL   Oct 17, 2020       L        [Getafe, Barcelona ]  1 - 0   \n",
       "3       3  UCL   Oct 20, 2020       W  [Barcelona, FerencvÃ¡ros ]  5 - 1   \n",
       "4       4  LAL   Oct 24, 2020       L   [Barcelona , Real Madrid]  1 - 3   \n",
       "..    ...   ...            ...    ...                         ...    ...   \n",
       "73     97  LAL    Jul 8, 2020       W      [Barcelona, Espanyol ]  1 - 0   \n",
       "74     98  LAL   Jul 11, 2020       W    [Valladolid , Barcelona]  0 - 1   \n",
       "75     99  LAL   Jul 16, 2020       L       [Barcelona , Osasuna]  1 - 2   \n",
       "76    100  LAL   Jul 19, 2020       W       [AlavÃ©s , Barcelona]  0 - 5   \n",
       "77    101  UCL    Aug 8, 2020       W        [Barcelona, Napoli ]  3 - 1   \n",
       "\n",
       "   formation  year   month  \n",
       "0       4231  2020   Oct 1  \n",
       "1       4231  2020   Oct 4  \n",
       "2       4231  2020  Oct 17  \n",
       "3       4231  2020  Oct 20  \n",
       "4        442  2020  Oct 24  \n",
       "..       ...   ...     ...  \n",
       "73      4312  2020   Jul 8  \n",
       "74     41212  2020  Jul 11  \n",
       "75       433  2020  Jul 16  \n",
       "76       433  2020  Jul 19  \n",
       "77       433  2020   Aug 8  \n",
       "\n",
       "[78 rows x 9 columns]"
      ]
     },
     "execution_count": 180,
     "metadata": {},
     "output_type": "execute_result"
    }
   ],
   "source": [
    "latest=df[(df['year']=='2020') | (df['year']=='2021')]\n",
    "latest.reset_index(inplace=True)\n",
    "latest"
   ]
  },
  {
   "cell_type": "code",
   "execution_count": 181,
   "metadata": {},
   "outputs": [
    {
     "data": {
      "image/png": "[encoded data removed]",
      "text/plain": [
       "<Figure size 1080x576 with 1 Axes>"
      ]
     },
     "metadata": {
      "needs_background": "light"
     },
     "output_type": "display_data"
    }
   ],
   "source": [
    "plt.figure(figsize = (15, 8))\n",
    "ax = sns.countplot(data=latest,x=\"formation\",hue=\"result\",palette=\"bright\")\n",
    "for p in ax.patches:\n",
    "        ax.annotate('{:.1f}'.format(p.get_height()), (p.get_x()+0.1, p.get_height()+0.1))"
   ]
  },
  {
   "cell_type": "code",
   "execution_count": 182,
   "metadata": {},
   "outputs": [
    {
     "data": {
      "text/plain": [
       "W    48\n",
       "L    16\n",
       "D    14\n",
       "Name: result, dtype: int64"
      ]
     },
     "execution_count": 182,
     "metadata": {},
     "output_type": "execute_result"
    }
   ],
   "source": [
    "latest['result'].value_counts()"
   ]
  },
  {
   "cell_type": "code",
   "execution_count": 183,
   "metadata": {},
   "outputs": [
    {
     "data": {
      "text/plain": [
       "W    21\n",
       "L     6\n",
       "D     5\n",
       "Name: result, dtype: int64"
      ]
     },
     "execution_count": 183,
     "metadata": {},
     "output_type": "execute_result"
    }
   ],
   "source": [
    "# 2021 count of wins,lose and draws\n",
    "latest2021=df[df['year']==\"2021\"]\n",
    "latest2021['result'].value_counts()"
   ]
  },
  {
   "cell_type": "code",
   "execution_count": 184,
   "metadata": {},
   "outputs": [
    {
     "data": {
      "text/plain": [
       "W    27\n",
       "L    10\n",
       "D     9\n",
       "Name: result, dtype: int64"
      ]
     },
     "execution_count": 184,
     "metadata": {},
     "output_type": "execute_result"
    }
   ],
   "source": [
    "# 2020 count of wins,lose and draws\n",
    "latest2020=df[df['year']==\"2020\"]\n",
    "latest2020['result'].value_counts()"
   ]
  },
  {
   "cell_type": "markdown",
   "metadata": {},
   "source": [
    "# win percentage with 3atb 2020\n"
   ]
  },
  {
   "cell_type": "code",
   "execution_count": 185,
   "metadata": {},
   "outputs": [
    {
     "data": {
      "text/plain": [
       "58.69565217391305"
      ]
     },
     "execution_count": 185,
     "metadata": {},
     "output_type": "execute_result"
    }
   ],
   "source": [
    "100*latest2020['result'].value_counts()[0]/len(latest2020['result'])"
   ]
  },
  {
   "cell_type": "markdown",
   "metadata": {},
   "source": [
    "# win percentage with 3atb 2021\n"
   ]
  },
  {
   "cell_type": "code",
   "execution_count": 186,
   "metadata": {},
   "outputs": [
    {
     "data": {
      "text/plain": [
       "65.625"
      ]
     },
     "execution_count": 186,
     "metadata": {},
     "output_type": "execute_result"
    }
   ],
   "source": [
    "100*latest2021['result'].value_counts()[0]/len(latest2021['result'])"
   ]
  },
  {
   "cell_type": "markdown",
   "metadata": {},
   "source": [
    "## Four at the back formation"
   ]
  },
  {
   "cell_type": "code",
   "execution_count": 187,
   "metadata": {},
   "outputs": [],
   "source": [
    "fab=pd.concat([df,tab]).drop_duplicates(keep=False)"
   ]
  },
  {
   "cell_type": "code",
   "execution_count": null,
   "metadata": {},
   "outputs": [],
   "source": []
  },
  {
   "cell_type": "code",
   "execution_count": 188,
   "metadata": {},
   "outputs": [],
   "source": [
    "fab.reset_index(drop=True,inplace=True)\n"
   ]
  },
  {
   "cell_type": "code",
   "execution_count": 189,
   "metadata": {},
   "outputs": [
    {
     "data": {
      "image/png": "[encoded data removed]",
      "text/plain": [
       "<Figure size 1080x576 with 1 Axes>"
      ]
     },
     "metadata": {
      "needs_background": "light"
     },
     "output_type": "display_data"
    }
   ],
   "source": [
    "plt.figure(figsize = (15, 8))\n",
    "ax = sns.countplot(data=fab,x=\"formation\",hue=\"result\",palette=\"bright\")\n",
    "for p in ax.patches:\n",
    "        ax.annotate('{:.1f}'.format(p.get_height()), (p.get_x(), p.get_height()+0.1))"
   ]
  },
  {
   "cell_type": "markdown",
   "metadata": {},
   "source": [
    "# Season wise analysis\n"
   ]
  },
  {
   "cell_type": "code",
   "execution_count": 190,
   "metadata": {},
   "outputs": [],
   "source": [
    "all=[df1516,df1617,df1718,df1819,df1920,df2021]"
   ]
  },
  {
   "cell_type": "code",
   "execution_count": 207,
   "metadata": {},
   "outputs": [],
   "source": [
    "def plot():\n",
    "    plt.rcParams[\"figure.figsize\"] = (25,20)\n",
    "    fig, axes = plt.subplots(ncols=3, nrows=2)\n",
    "    season=1516\n",
    "    for i, ax in zip(all, axes.flat):\n",
    "        ax.set_title(season)\n",
    "        season=season+101\n",
    "\n",
    "        ax=sns.countplot(data=i,x=\"formation\",hue=\"result\", ax=ax)\n",
    "        for p in ax.patches:\n",
    "            ax.annotate('{:.1f}'.format(p.get_height()), (p.get_x(), p.get_height()+0.1))\n",
    "\n",
    "    plt.show()\n",
    "    "
   ]
  },
  {
   "cell_type": "markdown",
   "metadata": {},
   "source": [
    "# manually replace the None formation with appropriate ones\n"
   ]
  },
  {
   "cell_type": "code",
   "execution_count": 202,
   "metadata": {},
   "outputs": [],
   "source": [
    "#for season 2015/16\n",
    "df1516['formation']=df1516['formation'].apply(lambda x: '433' if x=='None' else x)\n"
   ]
  },
  {
   "cell_type": "code",
   "execution_count": 205,
   "metadata": {},
   "outputs": [],
   "source": [
    "#for 2016/17\n",
    "df1617['formation']=df1617['formation'].apply(lambda x: '433' if x=='None' else x)"
   ]
  },
  {
   "cell_type": "code",
   "execution_count": 206,
   "metadata": {},
   "outputs": [],
   "source": [
    "#for 2017/18\n",
    "df1718['formation']=df1718['formation'].apply(lambda x: '433' if x=='None' else x)"
   ]
  },
  {
   "cell_type": "code",
   "execution_count": 208,
   "metadata": {},
   "outputs": [
    {
     "data": {
      "image/png": "[encoded data removed]",
      "text/plain": [
       "<Figure size 1800x1440 with 6 Axes>"
      ]
     },
     "metadata": {
      "needs_background": "light"
     },
     "output_type": "display_data"
    }
   ],
   "source": [
    "plot()"
   ]
  },
  {
   "cell_type": "markdown",
   "metadata": {},
   "source": [
    "# Success ratings over years..\n"
   ]
  },
  {
   "cell_type": "code",
   "execution_count": 219,
   "metadata": {},
   "outputs": [
    {
     "name": "stdout",
     "output_type": "stream",
     "text": [
      "Season: 15 / 16\n",
      "Winning percentage:  73.77049180327869 %\n",
      "\n",
      "\n",
      "Formations used in matches: \n",
      " 433      60\n",
      "41221     1\n",
      "Name: formation, dtype: int64\n",
      "\n",
      "\n",
      "\n",
      "\n",
      "\n",
      "Season: 16 / 17\n",
      "Winning percentage:  70.6896551724138 %\n",
      "\n",
      "\n",
      "Formations used in matches: \n",
      " 433      48\n",
      "3421      4\n",
      "31213     1\n",
      "41221     1\n",
      "4312      1\n",
      "4141      1\n",
      "41212     1\n",
      "3142      1\n",
      "Name: formation, dtype: int64\n",
      "\n",
      "\n",
      "\n",
      "\n",
      "\n",
      "Season: 17 / 18\n",
      "Winning percentage:  70.6896551724138 %\n",
      "\n",
      "\n",
      "Formations used in matches: \n",
      " 442      29\n",
      "433      21\n",
      "4231      4\n",
      "41212     2\n",
      "352       1\n",
      "4411      1\n",
      "Name: formation, dtype: int64\n",
      "\n",
      "\n",
      "\n",
      "\n",
      "\n",
      "Season: 18 / 19\n",
      "Winning percentage:  66.10169491525424 %\n",
      "\n",
      "\n",
      "Formations used in matches: \n",
      " 433     49\n",
      "442      5\n",
      "4141     2\n",
      "352      1\n",
      "3421     1\n",
      "3142     1\n",
      "Name: formation, dtype: int64\n",
      "\n",
      "\n",
      "\n",
      "\n",
      "\n",
      "Season: 19 / 20\n",
      "Winning percentage:  65.3061224489796 %\n",
      "\n",
      "\n",
      "Formations used in matches: \n",
      " 433      36\n",
      "3142      4\n",
      "41212     3\n",
      "442       2\n",
      "4312      2\n",
      "4231      2\n",
      "Name: formation, dtype: int64\n",
      "\n",
      "\n",
      "\n",
      "\n",
      "\n",
      "Season: 20 / 21\n",
      "Winning percentage:  62.264150943396224 %\n",
      "\n",
      "\n",
      "Formations used in matches: \n",
      " 4231    16\n",
      "433     15\n",
      "3142    10\n",
      "3421     7\n",
      "442      2\n",
      "4141     1\n",
      "352      1\n",
      "3412     1\n",
      "Name: formation, dtype: int64\n",
      "\n",
      "\n",
      "\n",
      "\n",
      "\n"
     ]
    }
   ],
   "source": [
    "years=1516\n",
    "for season in all:\n",
    "    print(\"Season:\",str(years)[0:2],'/',str(years)[2:])\n",
    "    years+=101\n",
    "    print(\"Winning percentage: \",100*season['result'].value_counts()[0]/len(season['result']),\"%\\n\\n\")\n",
    "    print(\"Formations used in matches: \\n\",season['formation'].value_counts())\n",
    "    print(\"\\n\\n\\n\\n\")"
   ]
  },
  {
   "cell_type": "code",
   "execution_count": null,
   "metadata": {},
   "outputs": [],
   "source": []
  }
 ],
 "metadata": {
  "kernelspec": {
   "display_name": "Python [conda env:Rssi] *",
   "language": "python",
   "name": "conda-env-Rssi-py"
  },
  "language_info": {
   "codemirror_mode": {
    "name": "ipython",
    "version": 3
   },
   "file_extension": ".py",
   "mimetype": "text/x-python",
   "name": "python",
   "nbconvert_exporter": "python",
   "pygments_lexer": "ipython3",
   "version": "3.7.5"
  }
 },
 "nbformat": 4,
 "nbformat_minor": 2
}
