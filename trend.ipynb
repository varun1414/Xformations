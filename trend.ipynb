{
 "cells": [
  {
   "cell_type": "code",
   "execution_count": 1,
   "metadata": {},
   "outputs": [
    {
     "name": "stderr",
     "output_type": "stream",
     "text": [
      "C:\\Users\\HP\\Anaconda3\\envs\\Rssi\\lib\\site-packages\\statsmodels\\tools\\_testing.py:19: FutureWarning: pandas.util.testing is deprecated. Use the functions in the public API at pandas.testing instead.\n",
      "  import pandas.util.testing as tm\n"
     ]
    }
   ],
   "source": [
    "import pandas as pd\n",
    "import seaborn as sns"
   ]
  },
  {
   "cell_type": "code",
   "execution_count": 127,
   "metadata": {},
   "outputs": [],
   "source": [
    "df2021=pd.read_csv('20_21',encoding=\"latin\")\n",
    "df1920=pd.read_csv('19_20',encoding=\"latin\")\n",
    "df1819=pd.read_csv('18_19',encoding=\"latin\")\n",
    "df1718=pd.read_csv('17_18',encoding=\"latin\")\n",
    "df1617=pd.read_csv('16_17',encoding=\"latin\")\n",
    "df1516=pd.read_csv('15_16',encoding=\"latin\")\n",
    "df=pd.read_csv('complete',encoding=\"latin\")"
   ]
  },
  {
   "cell_type": "code",
   "execution_count": 137,
   "metadata": {},
   "outputs": [
    {
     "data": {
      "text/html": [
       "<div>\n",
       "<style scoped>\n",
       "    .dataframe tbody tr th:only-of-type {\n",
       "        vertical-align: middle;\n",
       "    }\n",
       "\n",
       "    .dataframe tbody tr th {\n",
       "        vertical-align: top;\n",
       "    }\n",
       "\n",
       "    .dataframe thead th {\n",
       "        text-align: right;\n",
       "    }\n",
       "</style>\n",
       "<table border=\"1\" class=\"dataframe\">\n",
       "  <thead>\n",
       "    <tr style=\"text-align: right;\">\n",
       "      <th></th>\n",
       "      <th>comp</th>\n",
       "      <th>date</th>\n",
       "      <th>result</th>\n",
       "      <th>teams</th>\n",
       "      <th>score</th>\n",
       "      <th>formation</th>\n",
       "    </tr>\n",
       "  </thead>\n",
       "  <tbody>\n",
       "    <tr>\n",
       "      <th>0</th>\n",
       "      <td>LAL</td>\n",
       "      <td>Oct 1, 2020</td>\n",
       "      <td>W</td>\n",
       "      <td>[Celta , Barcelona]</td>\n",
       "      <td>0 - 3</td>\n",
       "      <td>4231</td>\n",
       "    </tr>\n",
       "    <tr>\n",
       "      <th>1</th>\n",
       "      <td>LAL</td>\n",
       "      <td>Oct 4, 2020</td>\n",
       "      <td>D</td>\n",
       "      <td>[Barcelona , Sevilla FC ]</td>\n",
       "      <td>1 - 1</td>\n",
       "      <td>4231</td>\n",
       "    </tr>\n",
       "    <tr>\n",
       "      <th>2</th>\n",
       "      <td>LAL</td>\n",
       "      <td>Oct 17, 2020</td>\n",
       "      <td>L</td>\n",
       "      <td>[Getafe, Barcelona ]</td>\n",
       "      <td>1 - 0</td>\n",
       "      <td>4231</td>\n",
       "    </tr>\n",
       "    <tr>\n",
       "      <th>3</th>\n",
       "      <td>UCL</td>\n",
       "      <td>Oct 20, 2020</td>\n",
       "      <td>W</td>\n",
       "      <td>[Barcelona, FerencvÃ¡ros ]</td>\n",
       "      <td>5 - 1</td>\n",
       "      <td>4231</td>\n",
       "    </tr>\n",
       "    <tr>\n",
       "      <th>4</th>\n",
       "      <td>LAL</td>\n",
       "      <td>Oct 24, 2020</td>\n",
       "      <td>L</td>\n",
       "      <td>[Barcelona , Real Madrid]</td>\n",
       "      <td>1 - 3</td>\n",
       "      <td>442</td>\n",
       "    </tr>\n",
       "    <tr>\n",
       "      <th>...</th>\n",
       "      <td>...</td>\n",
       "      <td>...</td>\n",
       "      <td>...</td>\n",
       "      <td>...</td>\n",
       "      <td>...</td>\n",
       "      <td>...</td>\n",
       "    </tr>\n",
       "    <tr>\n",
       "      <th>333</th>\n",
       "      <td>LAL</td>\n",
       "      <td>Apr 23, 2016</td>\n",
       "      <td>W</td>\n",
       "      <td>[Barcelona, GijÃ³n ]</td>\n",
       "      <td>6 - 0</td>\n",
       "      <td>433</td>\n",
       "    </tr>\n",
       "    <tr>\n",
       "      <th>334</th>\n",
       "      <td>LAL</td>\n",
       "      <td>Apr 30, 2016</td>\n",
       "      <td>W</td>\n",
       "      <td>[Real Betis , Barcelona]</td>\n",
       "      <td>0 - 2</td>\n",
       "      <td>433</td>\n",
       "    </tr>\n",
       "    <tr>\n",
       "      <th>335</th>\n",
       "      <td>LAL</td>\n",
       "      <td>May 8, 2016</td>\n",
       "      <td>W</td>\n",
       "      <td>[Barcelona, Espanyol ]</td>\n",
       "      <td>5 - 0</td>\n",
       "      <td>433</td>\n",
       "    </tr>\n",
       "    <tr>\n",
       "      <th>336</th>\n",
       "      <td>LAL</td>\n",
       "      <td>May 14, 2016</td>\n",
       "      <td>W</td>\n",
       "      <td>[Granada , Barcelona]</td>\n",
       "      <td>0 - 3</td>\n",
       "      <td>433</td>\n",
       "    </tr>\n",
       "    <tr>\n",
       "      <th>337</th>\n",
       "      <td>CDR</td>\n",
       "      <td>May 22, 2016</td>\n",
       "      <td>W</td>\n",
       "      <td>[Barcelona, Sevilla FC ]</td>\n",
       "      <td>2 - 0</td>\n",
       "      <td>None</td>\n",
       "    </tr>\n",
       "  </tbody>\n",
       "</table>\n",
       "<p>338 rows × 6 columns</p>\n",
       "</div>"
      ],
      "text/plain": [
       "     comp           date result                       teams  score formation\n",
       "0    LAL    Oct 1, 2020       W         [Celta , Barcelona]  0 - 3      4231\n",
       "1    LAL    Oct 4, 2020       D   [Barcelona , Sevilla FC ]  1 - 1      4231\n",
       "2    LAL   Oct 17, 2020       L        [Getafe, Barcelona ]  1 - 0      4231\n",
       "3    UCL   Oct 20, 2020       W  [Barcelona, FerencvÃ¡ros ]  5 - 1      4231\n",
       "4    LAL   Oct 24, 2020       L   [Barcelona , Real Madrid]  1 - 3       442\n",
       "..    ...            ...    ...                         ...    ...       ...\n",
       "333  LAL   Apr 23, 2016       W        [Barcelona, GijÃ³n ]  6 - 0       433\n",
       "334  LAL   Apr 30, 2016       W    [Real Betis , Barcelona]  0 - 2       433\n",
       "335  LAL    May 8, 2016       W      [Barcelona, Espanyol ]  5 - 0       433\n",
       "336  LAL   May 14, 2016       W       [Granada , Barcelona]  0 - 3       433\n",
       "337  CDR   May 22, 2016       W    [Barcelona, Sevilla FC ]  2 - 0      None\n",
       "\n",
       "[338 rows x 6 columns]"
      ]
     },
     "execution_count": 137,
     "metadata": {},
     "output_type": "execute_result"
    }
   ],
   "source": [
    "df=df[df.columns[1:]]\n"
   ]
  },
  {
   "cell_type": "code",
   "execution_count": 148,
   "metadata": {},
   "outputs": [],
   "source": [
    "df=df[df[\"formation\"]!= \"None\"]"
   ]
  },
  {
   "cell_type": "code",
   "execution_count": 149,
   "metadata": {},
   "outputs": [
    {
     "data": {
      "text/html": [
       "<div>\n",
       "<style scoped>\n",
       "    .dataframe tbody tr th:only-of-type {\n",
       "        vertical-align: middle;\n",
       "    }\n",
       "\n",
       "    .dataframe tbody tr th {\n",
       "        vertical-align: top;\n",
       "    }\n",
       "\n",
       "    .dataframe thead th {\n",
       "        text-align: right;\n",
       "    }\n",
       "</style>\n",
       "<table border=\"1\" class=\"dataframe\">\n",
       "  <thead>\n",
       "    <tr style=\"text-align: right;\">\n",
       "      <th></th>\n",
       "      <th>comp</th>\n",
       "      <th>date</th>\n",
       "      <th>result</th>\n",
       "      <th>teams</th>\n",
       "      <th>score</th>\n",
       "      <th>formation</th>\n",
       "    </tr>\n",
       "  </thead>\n",
       "  <tbody>\n",
       "    <tr>\n",
       "      <th>0</th>\n",
       "      <td>LAL</td>\n",
       "      <td>Oct 1, 2020</td>\n",
       "      <td>W</td>\n",
       "      <td>[Celta , Barcelona]</td>\n",
       "      <td>0 - 3</td>\n",
       "      <td>4231</td>\n",
       "    </tr>\n",
       "    <tr>\n",
       "      <th>1</th>\n",
       "      <td>LAL</td>\n",
       "      <td>Oct 4, 2020</td>\n",
       "      <td>D</td>\n",
       "      <td>[Barcelona , Sevilla FC ]</td>\n",
       "      <td>1 - 1</td>\n",
       "      <td>4231</td>\n",
       "    </tr>\n",
       "    <tr>\n",
       "      <th>2</th>\n",
       "      <td>LAL</td>\n",
       "      <td>Oct 17, 2020</td>\n",
       "      <td>L</td>\n",
       "      <td>[Getafe, Barcelona ]</td>\n",
       "      <td>1 - 0</td>\n",
       "      <td>4231</td>\n",
       "    </tr>\n",
       "    <tr>\n",
       "      <th>3</th>\n",
       "      <td>UCL</td>\n",
       "      <td>Oct 20, 2020</td>\n",
       "      <td>W</td>\n",
       "      <td>[Barcelona, FerencvÃ¡ros ]</td>\n",
       "      <td>5 - 1</td>\n",
       "      <td>4231</td>\n",
       "    </tr>\n",
       "    <tr>\n",
       "      <th>4</th>\n",
       "      <td>LAL</td>\n",
       "      <td>Oct 24, 2020</td>\n",
       "      <td>L</td>\n",
       "      <td>[Barcelona , Real Madrid]</td>\n",
       "      <td>1 - 3</td>\n",
       "      <td>442</td>\n",
       "    </tr>\n",
       "    <tr>\n",
       "      <th>...</th>\n",
       "      <td>...</td>\n",
       "      <td>...</td>\n",
       "      <td>...</td>\n",
       "      <td>...</td>\n",
       "      <td>...</td>\n",
       "      <td>...</td>\n",
       "    </tr>\n",
       "    <tr>\n",
       "      <th>332</th>\n",
       "      <td>LAL</td>\n",
       "      <td>Apr 20, 2016</td>\n",
       "      <td>W</td>\n",
       "      <td>[Deportivo , Barcelona]</td>\n",
       "      <td>0 - 8</td>\n",
       "      <td>433</td>\n",
       "    </tr>\n",
       "    <tr>\n",
       "      <th>333</th>\n",
       "      <td>LAL</td>\n",
       "      <td>Apr 23, 2016</td>\n",
       "      <td>W</td>\n",
       "      <td>[Barcelona, GijÃ³n ]</td>\n",
       "      <td>6 - 0</td>\n",
       "      <td>433</td>\n",
       "    </tr>\n",
       "    <tr>\n",
       "      <th>334</th>\n",
       "      <td>LAL</td>\n",
       "      <td>Apr 30, 2016</td>\n",
       "      <td>W</td>\n",
       "      <td>[Real Betis , Barcelona]</td>\n",
       "      <td>0 - 2</td>\n",
       "      <td>433</td>\n",
       "    </tr>\n",
       "    <tr>\n",
       "      <th>335</th>\n",
       "      <td>LAL</td>\n",
       "      <td>May 8, 2016</td>\n",
       "      <td>W</td>\n",
       "      <td>[Barcelona, Espanyol ]</td>\n",
       "      <td>5 - 0</td>\n",
       "      <td>433</td>\n",
       "    </tr>\n",
       "    <tr>\n",
       "      <th>336</th>\n",
       "      <td>LAL</td>\n",
       "      <td>May 14, 2016</td>\n",
       "      <td>W</td>\n",
       "      <td>[Granada , Barcelona]</td>\n",
       "      <td>0 - 3</td>\n",
       "      <td>433</td>\n",
       "    </tr>\n",
       "  </tbody>\n",
       "</table>\n",
       "<p>307 rows × 6 columns</p>\n",
       "</div>"
      ],
      "text/plain": [
       "     comp           date result                       teams  score formation\n",
       "0    LAL    Oct 1, 2020       W         [Celta , Barcelona]  0 - 3      4231\n",
       "1    LAL    Oct 4, 2020       D   [Barcelona , Sevilla FC ]  1 - 1      4231\n",
       "2    LAL   Oct 17, 2020       L        [Getafe, Barcelona ]  1 - 0      4231\n",
       "3    UCL   Oct 20, 2020       W  [Barcelona, FerencvÃ¡ros ]  5 - 1      4231\n",
       "4    LAL   Oct 24, 2020       L   [Barcelona , Real Madrid]  1 - 3       442\n",
       "..    ...            ...    ...                         ...    ...       ...\n",
       "332  LAL   Apr 20, 2016       W     [Deportivo , Barcelona]  0 - 8       433\n",
       "333  LAL   Apr 23, 2016       W        [Barcelona, GijÃ³n ]  6 - 0       433\n",
       "334  LAL   Apr 30, 2016       W    [Real Betis , Barcelona]  0 - 2       433\n",
       "335  LAL    May 8, 2016       W      [Barcelona, Espanyol ]  5 - 0       433\n",
       "336  LAL   May 14, 2016       W       [Granada , Barcelona]  0 - 3       433\n",
       "\n",
       "[307 rows x 6 columns]"
      ]
     },
     "execution_count": 149,
     "metadata": {},
     "output_type": "execute_result"
    }
   ],
   "source": [
    "df"
   ]
  },
  {
   "cell_type": "code",
   "execution_count": 153,
   "metadata": {},
   "outputs": [
    {
     "data": {
      "text/plain": [
       "<Figure size 1080x504 with 0 Axes>"
      ]
     },
     "execution_count": 153,
     "metadata": {},
     "output_type": "execute_result"
    },
    {
     "data": {
      "text/plain": [
       "<Figure size 1080x504 with 0 Axes>"
      ]
     },
     "metadata": {},
     "output_type": "display_data"
    }
   ],
   "source": [
    "import matplotlib.pyplot as plt\n"
   ]
  },
  {
   "cell_type": "code",
   "execution_count": 172,
   "metadata": {},
   "outputs": [
    {
     "data": {
      "image/png": "[encoded data removed]",
      "text/plain": [
       "<Figure size 1080x576 with 1 Axes>"
      ]
     },
     "metadata": {
      "needs_background": "light"
     },
     "output_type": "display_data"
    }
   ],
   "source": [
    "plt.figure(figsize = (15, 8))\n",
    "ax = sns.countplot(data=df,x=\"formation\",hue=\"result\")\n"
   ]
  },
  {
   "cell_type": "code",
   "execution_count": null,
   "metadata": {},
   "outputs": [],
   "source": []
  }
 ],
 "metadata": {
  "kernelspec": {
   "display_name": "Python [conda env:Rssi] *",
   "language": "python",
   "name": "conda-env-Rssi-py"
  },
  "language_info": {
   "codemirror_mode": {
    "name": "ipython",
    "version": 3
   },
   "file_extension": ".py",
   "mimetype": "text/x-python",
   "name": "python",
   "nbconvert_exporter": "python",
   "pygments_lexer": "ipython3",
   "version": "3.7.5"
  }
 },
 "nbformat": 4,
 "nbformat_minor": 2
}
